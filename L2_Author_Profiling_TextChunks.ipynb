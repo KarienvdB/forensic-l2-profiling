{
 "cells": [
  {
   "cell_type": "markdown",
   "id": "35eec73b",
   "metadata": {},
   "source": [
    "# L2 Author Profiling Notebook"
   ]
  },
  {
   "cell_type": "code",
   "execution_count": null,
   "id": "ff5c3856",
   "metadata": {},
   "outputs": [],
   "source": [
    "# Upload and unzip 'l2_chunks_dataset.zip' before running.\n",
    "# Then run the analysis steps."
   ]
  }
 ],
 "metadata": {},
 "nbformat": 4,
 "nbformat_minor": 5
}
